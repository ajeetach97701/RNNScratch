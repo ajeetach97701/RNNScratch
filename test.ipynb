{
 "cells": [
  {
   "cell_type": "code",
   "execution_count": 2,
   "id": "93762b4a",
   "metadata": {},
   "outputs": [
    {
     "name": "stdout",
     "output_type": "stream",
     "text": [
      "(3, 1)\n"
     ]
    },
    {
     "data": {
      "text/plain": [
       "[array([[38.44222947]]),\n",
       " array([[35.46793899]]),\n",
       " array([[35.46793899]]),\n",
       " array([[36.03995463]]),\n",
       " array([[35.46793899]]),\n",
       " array([[34.32390772]]),\n",
       " array([[35.46793899]]),\n",
       " array([[37.75600153]]),\n",
       " array([[36.61197026]]),\n",
       " array([[38.32801717]])]"
      ]
     },
     "execution_count": 2,
     "metadata": {},
     "output_type": "execute_result"
    }
   ],
   "source": [
    "from src.FeedForward import feed_forward\n",
    "\n",
    "import pandas as pd\n",
    "import numpy as np\n",
    "\n",
    "data = pd.read_csv('./Data/clean_weather.csv', index_col=[0])\n",
    "\n",
    "data = data.ffill()\n",
    "data = data['tmax'].head(10)\n",
    "data\n",
    "\n",
    "feed_forward(num_neurons=3, data = data)"
   ]
  },
  {
   "cell_type": "code",
   "execution_count": null,
   "id": "0ec9e664",
   "metadata": {},
   "outputs": [],
   "source": []
  },
  {
   "cell_type": "code",
   "execution_count": null,
   "id": "b2de0e7f",
   "metadata": {},
   "outputs": [],
   "source": []
  }
 ],
 "metadata": {
  "kernelspec": {
   "display_name": "Python 3",
   "language": "python",
   "name": "python3"
  },
  "language_info": {
   "codemirror_mode": {
    "name": "ipython",
    "version": 3
   },
   "file_extension": ".py",
   "mimetype": "text/x-python",
   "name": "python",
   "nbconvert_exporter": "python",
   "pygments_lexer": "ipython3",
   "version": "3.11.0"
  }
 },
 "nbformat": 4,
 "nbformat_minor": 5
}
