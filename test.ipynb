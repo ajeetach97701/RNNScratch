{
 "cells": [
  {
   "cell_type": "code",
   "execution_count": 16,
   "id": "93762b4a",
   "metadata": {},
   "outputs": [
    {
     "name": "stdout",
     "output_type": "stream",
     "text": [
      "(3, 1)\n"
     ]
    },
    {
     "data": {
      "text/plain": [
       "[array([[60.23852802]]),\n",
       " array([[53.81220164]]),\n",
       " array([[53.81220164]]),\n",
       " array([[54.76788695]]),\n",
       " array([[53.81220164]]),\n",
       " array([[51.90083101]]),\n",
       " array([[53.81220164]]),\n",
       " array([[57.63494289]]),\n",
       " array([[55.72357227]]),\n",
       " array([[58.59062821]])]"
      ]
     },
     "execution_count": 16,
     "metadata": {},
     "output_type": "execute_result"
    }
   ],
   "source": [
    "from FeedForward import feed_forward\n",
    "\n",
    "import pandas as pd\n",
    "import numpy as np\n",
    "\n",
    "data = pd.read_csv('./clean_weather.csv', index_col=[0])\n",
    "\n",
    "data = data.ffill()\n",
    "data = data['tmax'].head(10)\n",
    "data\n",
    "\n",
    "feed_forward(num_neurons=3, data = data)"
   ]
  },
  {
   "cell_type": "code",
   "execution_count": null,
   "id": "0ec9e664",
   "metadata": {},
   "outputs": [],
   "source": []
  },
  {
   "cell_type": "code",
   "execution_count": null,
   "id": "b2de0e7f",
   "metadata": {},
   "outputs": [],
   "source": []
  }
 ],
 "metadata": {
  "kernelspec": {
   "display_name": "Python 3",
   "language": "python",
   "name": "python3"
  },
  "language_info": {
   "codemirror_mode": {
    "name": "ipython",
    "version": 3
   },
   "file_extension": ".py",
   "mimetype": "text/x-python",
   "name": "python",
   "nbconvert_exporter": "python",
   "pygments_lexer": "ipython3",
   "version": "3.11.0"
  }
 },
 "nbformat": 4,
 "nbformat_minor": 5
}
