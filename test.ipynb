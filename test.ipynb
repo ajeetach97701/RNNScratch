{
 "cells": [
  {
   "cell_type": "code",
   "execution_count": 1,
   "id": "93762b4a",
   "metadata": {},
   "outputs": [
    {
     "data": {
      "text/plain": [
       "1970-01-01    60.0\n",
       "1970-01-02    52.0\n",
       "1970-01-03    52.0\n",
       "Name: tmax, dtype: float64"
      ]
     },
     "execution_count": 1,
     "metadata": {},
     "output_type": "execute_result"
    }
   ],
   "source": [
    "from src.FeedForward import feed_forward\n",
    "\n",
    "import pandas as pd\n",
    "import numpy as np\n",
    "\n",
    "data = pd.read_csv('./Data/clean_weather.csv', index_col=[0])\n",
    "\n",
    "data = data.ffill()\n",
    "data = data['tmax'].head(3)\n",
    "data\n"
   ]
  },
  {
   "cell_type": "code",
   "execution_count": 2,
   "id": "d0bbf51f",
   "metadata": {},
   "outputs": [
    {
     "name": "stdout",
     "output_type": "stream",
     "text": [
      "------------------------ [60. 52. 52.]\n",
      "(3, 1)\n"
     ]
    },
    {
     "data": {
      "text/plain": [
       "[array([[1.8443545]]), array([[1.8443544]]), array([[1.8443544]])]"
      ]
     },
     "execution_count": 2,
     "metadata": {},
     "output_type": "execute_result"
    }
   ],
   "source": [
    "\n",
    "outputs = feed_forward(num_neurons=3, data = data, out_neurons=1)\n",
    "outputs"
   ]
  },
  {
   "cell_type": "code",
   "execution_count": 5,
   "id": "0ec9e664",
   "metadata": {},
   "outputs": [],
   "source": [
    "def mse(actual, predicted):\n",
    "    return (np.mean(actual-predicted)**2)\n",
    "\n",
    "\n",
    "def mse_grad(actual,pred):\n",
    "    return (pred - actual)\n",
    "\n",
    "actuals = np.array([72, 62, 65])\n",
    "loss_grad = mse_grad(actuals, outputs)"
   ]
  },
  {
   "cell_type": "code",
   "execution_count": 2,
   "id": "fb95721b",
   "metadata": {},
   "outputs": [],
   "source": [
    "from src import backProp, feedForward"
   ]
  },
  {
   "cell_type": "code",
   "execution_count": null,
   "id": "042e8620",
   "metadata": {},
   "outputs": [],
   "source": []
  }
 ],
 "metadata": {
  "kernelspec": {
   "display_name": "Python 3",
   "language": "python",
   "name": "python3"
  },
  "language_info": {
   "codemirror_mode": {
    "name": "ipython",
    "version": 3
   },
   "file_extension": ".py",
   "mimetype": "text/x-python",
   "name": "python",
   "nbconvert_exporter": "python",
   "pygments_lexer": "ipython3",
   "version": "3.11.0"
  }
 },
 "nbformat": 4,
 "nbformat_minor": 5
}
